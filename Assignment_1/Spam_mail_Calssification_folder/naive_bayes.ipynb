{
 "cells": [
  {
   "cell_type": "code",
   "execution_count": 83,
   "metadata": {},
   "outputs": [],
   "source": [
    "#import necesasary packages\n",
    "import numpy as np\n",
    "import matplotlib.pyplot as plt\n",
    "import pandas as pd\n",
    "import pickle\n",
    "import math\n",
    "from scipy.special import factorial"
   ]
  },
  {
   "cell_type": "code",
   "execution_count": 84,
   "metadata": {},
   "outputs": [
    {
     "name": "stdout",
     "output_type": "stream",
     "text": [
      "#messages: 4459, vocabulary: 954\n"
     ]
    }
   ],
   "source": [
    "#load data files\n",
    "X_train = np.load(\"train_features.npy\") # X_train.shape = (4459,954)\n",
    "y_train = np.load(\"train_labels.npy\")   # y_train.shape = (4459,)\n",
    "N = X_train.shape[0]\n",
    "d = X_train.shape[1]\n",
    "print(f\"#messages: {N}, vocabulary: {d}\")"
   ]
  },
  {
   "cell_type": "code",
   "execution_count": 85,
   "metadata": {},
   "outputs": [],
   "source": [
    "probs = np.zeros((N,d))  #probs.shape = (4459,954) "
   ]
  },
  {
   "cell_type": "code",
   "execution_count": 86,
   "metadata": {},
   "outputs": [],
   "source": [
    "spam_indx = [i for i,j in enumerate(y_train) if j == 1] # storing indices of spam messages\n",
    "notSpam_indx = [i for i,j in enumerate(y_train) if j == 0] # storing indices of non-spam messages"
   ]
  },
  {
   "cell_type": "code",
   "execution_count": 87,
   "metadata": {},
   "outputs": [
    {
     "data": {
      "text/plain": [
       "<matplotlib.collections.PathCollection at 0x7fcf6bf0dcd0>"
      ]
     },
     "execution_count": 87,
     "metadata": {},
     "output_type": "execute_result"
    },
    {
     "data": {
      "image/png": "[encoded data removed]",
      "text/plain": [
       "<Figure size 432x288 with 1 Axes>"
      ]
     },
     "metadata": {
      "needs_background": "light"
     },
     "output_type": "display_data"
    }
   ],
   "source": [
    "l = []\n",
    "for i in range(X_train.shape[1]):\n",
    "    l.append(np.sum(X_train[spam_indx][:,i])/X_train[spam_indx].shape[0])\n",
    "    \n",
    "plt.scatter(range(len(l)),l,color='b')"
   ]
  },
  {
   "cell_type": "code",
   "execution_count": 88,
   "metadata": {},
   "outputs": [
    {
     "name": "stdout",
     "output_type": "stream",
     "text": [
      "17\n"
     ]
    }
   ],
   "source": [
    "spam_means = X_train[spam_indx].mean(axis=0)  #mean of #word in the spam messages\n",
    "notSpam_means = X_train[notSpam_indx].mean(axis=0)  #mean of #word in the not spam messages \n",
    "print(np.max(X_train[spam_indx]))#,notSpam_means) #>>> (954,) (954,)"
   ]
  },
  {
   "cell_type": "code",
   "execution_count": 89,
   "metadata": {},
   "outputs": [],
   "source": [
    "# calculate the prior probabilities\n",
    "prior_spam = np.array(spam_indx).shape[0]/N\n",
    "prior_notSpam = np.array(notSpam_indx).shape[0]/N"
   ]
  },
  {
   "cell_type": "code",
   "execution_count": 90,
   "metadata": {},
   "outputs": [],
   "source": [
    "temp = np.power(spam_means.reshape((1,-1)),X_train[spam_indx])  # (592,954)"
   ]
  },
  {
   "cell_type": "code",
   "execution_count": 91,
   "metadata": {},
   "outputs": [],
   "source": [
    "fact = factorial(X_train[spam_indx]) ** -1  # (592,954)"
   ]
  },
  {
   "cell_type": "code",
   "execution_count": 92,
   "metadata": {},
   "outputs": [],
   "source": [
    "temp2 = np.exp(-1*spam_means).reshape((1,-1)) # (1,954)"
   ]
  },
  {
   "cell_type": "code",
   "execution_count": 93,
   "metadata": {},
   "outputs": [],
   "source": [
    "t = np.multiply(temp,fact)\n",
    "#print(t.shape)\n",
    "X_probs_spam = np.multiply(temp2,t)"
   ]
  },
  {
   "cell_type": "code",
   "execution_count": 94,
   "metadata": {},
   "outputs": [
    {
     "data": {
      "text/plain": [
       "array([3, 3, 3, 3, 3, 3, 3, 3, 3, 3, 3, 3, 3, 3, 3, 3, 3, 3, 3, 3, 3, 3,\n",
       "       3, 3, 3, 3, 3, 3, 3, 3, 3, 3, 3, 3, 3, 3, 3, 3, 3, 3, 3, 3, 3, 3,\n",
       "       3, 3, 3, 3, 3, 3, 3, 3, 3, 3, 3, 3, 3, 3, 3, 3, 3, 3, 3, 3, 3, 3,\n",
       "       3, 3, 3, 3, 3, 3, 3, 3, 3, 3, 3, 3, 3, 3, 3, 3, 3, 3, 3, 3, 3, 3,\n",
       "       3, 3, 3, 3, 3, 3, 3, 3, 3, 3, 3, 3, 3, 3, 3, 3, 3, 3, 3, 3, 3, 3,\n",
       "       3, 3, 3, 3, 3, 3, 3, 3, 3, 3, 3, 3, 3, 3, 3, 3, 3, 3, 3, 3, 3, 3,\n",
       "       3, 3, 3, 3, 3, 3, 3, 3, 3, 3, 3, 3, 3, 3, 3, 3, 3, 3, 3, 3, 3, 3,\n",
       "       3, 3, 3, 3, 3, 3, 3, 3, 3, 3, 3, 3, 3, 3, 3, 3, 3, 3, 3, 3, 3, 3,\n",
       "       3, 3, 3, 3, 3, 3, 3, 3, 3, 3, 3, 3, 3, 3, 3, 3, 3, 3, 3, 3, 3, 3,\n",
       "       3, 3, 3, 3, 3, 3, 3, 3, 3, 3, 3, 3, 3, 3, 3, 3, 3, 3, 3, 3, 3, 3,\n",
       "       3, 3, 3, 3, 3, 3, 3, 3, 3, 3, 3, 3, 3, 3, 3, 3, 3, 3, 3, 3, 3, 3,\n",
       "       3, 3, 3, 3, 3, 3, 3, 3, 3, 3, 3, 3, 3, 3, 3, 3, 3, 3, 3, 3, 3, 3,\n",
       "       3, 3, 3, 3, 3, 3, 3, 3, 3, 3, 3, 3, 3, 3, 3, 3, 3, 3, 3, 3, 3, 3,\n",
       "       3, 3, 3, 3, 3, 3, 3, 3, 3, 3, 3, 3, 3, 3, 3, 3, 3, 3, 3, 3, 3, 3,\n",
       "       3, 3, 3, 3, 3, 3, 3, 3, 3, 3, 3, 3, 3, 3, 3, 3, 3, 3, 3, 3, 3, 3,\n",
       "       3, 3, 3, 3, 3, 3, 3, 3, 3, 3, 3, 3, 3, 3, 3, 3, 3, 3, 3, 3, 3, 3,\n",
       "       3, 3, 3, 3, 3, 3, 3, 3, 3, 3, 3, 3, 3, 3, 3, 3, 3, 3, 3, 3, 3, 3,\n",
       "       3, 3, 3, 3, 3, 3, 3, 3, 3, 3, 3, 3, 3, 3, 3, 3, 3, 3, 3, 3, 3, 3,\n",
       "       3, 3, 3, 3, 3, 3, 3, 3, 3, 3, 3, 3, 3, 3, 3, 3, 3, 3, 3, 3, 3, 3,\n",
       "       3, 3, 3, 3, 3, 3, 3, 3, 3, 3, 3, 3, 3, 3, 3, 3, 3, 3, 3, 3, 3, 3,\n",
       "       3, 3, 3, 3, 3, 3, 3, 3, 3, 3, 3, 3, 3, 3, 3, 3, 3, 3, 3, 3, 3, 3,\n",
       "       3, 3, 3, 3, 3, 3, 3, 3, 3, 3, 3, 3, 3, 3, 3, 3, 3, 3, 3, 3, 3, 3,\n",
       "       3, 3, 3, 3, 3, 3, 3, 3, 3, 3, 3, 3, 3, 3, 3, 3, 3, 3, 3, 3, 3, 3,\n",
       "       3, 3, 3, 3, 3, 3, 3, 3, 3, 3, 3, 3, 3, 3, 3, 3, 3, 3, 3, 3, 3, 3,\n",
       "       3, 3, 3, 3, 3, 3, 3, 3, 3, 3, 3, 3, 3, 3, 3, 3, 3, 3, 3, 3, 3, 3,\n",
       "       3, 3, 3, 3, 3, 3, 3, 3, 3, 3, 3, 3, 3, 3, 3, 3, 3, 3, 3, 3, 3, 3,\n",
       "       3, 3, 3, 3, 3, 3, 3, 3, 3, 3, 3, 3, 3, 3, 3, 3, 3, 3, 3, 3])"
      ]
     },
     "execution_count": 94,
     "metadata": {},
     "output_type": "execute_result"
    }
   ],
   "source": [
    "np.argmax(X_probs_spam,axis = 1)\n",
    "#X_probs_spam[3,:]"
   ]
  },
  {
   "cell_type": "code",
   "execution_count": 95,
   "metadata": {},
   "outputs": [],
   "source": [
    "# non-spam messages\n",
    "temp = np.power(notSpam_means.reshape((1,-1)),X_train[notSpam_indx])  # (3867,954)\n",
    "fact = factorial(X_train[notSpam_indx]) ** -1  # (3867,954)\n",
    "temp2 = np.exp(-1*notSpam_means).reshape((1,-1)) # (1,954)\n",
    "t = np.multiply(temp,fact)\n",
    "#temp2.shape\n",
    "X_probs_notSpam = np.multiply(temp2,t)"
   ]
  },
  {
   "cell_type": "code",
   "execution_count": 96,
   "metadata": {},
   "outputs": [],
   "source": [
    "mean_prob_words_spam =  X_probs_spam.mean(axis = 0)  # (954,)\n",
    "mean_prob_words_notSpam = X_probs_notSpam.mean(axis = 0) # (954,)"
   ]
  },
  {
   "cell_type": "code",
   "execution_count": 97,
   "metadata": {},
   "outputs": [],
   "source": [
    "# load test data \n",
    "\n",
    "X_test = np.load(\"test_features.npy\") # (1115,954)\n",
    "y_test = np.load(\"test_labels.npy\")   # (1115,)\n",
    "#print(X_test.shape ,y_test.shape)"
   ]
  },
  {
   "cell_type": "code",
   "execution_count": 98,
   "metadata": {},
   "outputs": [
    {
     "data": {
      "text/plain": [
       "(1115, 954)"
      ]
     },
     "execution_count": 98,
     "metadata": {},
     "output_type": "execute_result"
    }
   ],
   "source": [
    "# test data considering non-spam distribution\n",
    "temp = np.power(notSpam_means.reshape((1,-1)),X_test[:])  # (1115,954)\n",
    "fact = factorial(X_test[:]) ** -1  # (1115,954)\n",
    "temp2 = np.exp(-1*notSpam_means).reshape((1,-1)) # (1,954)\n",
    "t = np.multiply(temp,fact)\n",
    "#temp2.shape\n",
    "X_test_probs_notSpam = np.multiply(temp2,t)\n",
    "X_test_probs_notSpam.shape"
   ]
  },
  {
   "cell_type": "code",
   "execution_count": 99,
   "metadata": {},
   "outputs": [
    {
     "data": {
      "text/plain": [
       "(1115, 954)"
      ]
     },
     "execution_count": 99,
     "metadata": {},
     "output_type": "execute_result"
    }
   ],
   "source": [
    "# test data considering spam distribution\n",
    "temp = np.power(spam_means.reshape((1,-1)),X_test[:])  # (1115,954)\n",
    "fact = factorial(X_test[:]) ** -1  # (1115,954)\n",
    "temp2 = np.exp(-1*spam_means).reshape((1,-1)) # (1,954)\n",
    "t = np.multiply(temp,fact)\n",
    "#temp2.shape\n",
    "X_test_probs_spam = np.multiply(temp2,t)\n",
    "X_test_probs_spam.shape"
   ]
  },
  {
   "cell_type": "code",
   "execution_count": 100,
   "metadata": {},
   "outputs": [],
   "source": [
    "ans = 0\n",
    "pred_spam = []\n",
    "pred_notSpam = []\n",
    "\n",
    "# check if : prior_spam * P(X | spam) > prior_notSpam * P(X | notSpam)\n",
    "\n",
    "# prior_spam * P(X | spam)\n",
    "for row in X_test_probs_spam:\n",
    "    cont = prior_spam\n",
    "    for i in row:\n",
    "        cont *= i\n",
    "    pred_spam.append(cont)\n",
    "    "
   ]
  },
  {
   "cell_type": "code",
   "execution_count": 101,
   "metadata": {},
   "outputs": [],
   "source": [
    "# prior_notSpam * P(X | not-spam)\n",
    "for row in X_test_probs_notSpam:\n",
    "    cont = prior_notSpam\n",
    "    for i in row:\n",
    "        cont *= i\n",
    "    pred_notSpam.append(cont)\n",
    "    \n"
   ]
  },
  {
   "cell_type": "code",
   "execution_count": 102,
   "metadata": {},
   "outputs": [],
   "source": [
    "y_pred = []\n",
    "for i in range(len(pred_spam)):\n",
    "    y_pred.append(int(pred_spam[i] > pred_notSpam[i]))\n",
    "    "
   ]
  },
  {
   "cell_type": "code",
   "execution_count": 103,
   "metadata": {},
   "outputs": [
    {
     "name": "stdout",
     "output_type": "stream",
     "text": [
      "28\n"
     ]
    }
   ],
   "source": [
    "y_main = list(y_test)\n",
    "count = 0\n",
    "for i in range(len(y_pred)):\n",
    "    count += int(y_pred[i] != y_main[i])\n",
    "    \n",
    "print(count)\n",
    "    "
   ]
  },
  {
   "cell_type": "code",
   "execution_count": 104,
   "metadata": {},
   "outputs": [
    {
     "name": "stdout",
     "output_type": "stream",
     "text": [
      "Precision = 97.48878923766816%\n"
     ]
    }
   ],
   "source": [
    "print(f\"Precision = {(1 - count/X_test.shape[0])*100}%\")"
   ]
  },
  {
   "cell_type": "code",
   "execution_count": 105,
   "metadata": {},
   "outputs": [],
   "source": [
    "# load test data \n",
    "\n",
    "X_test = np.load(\"test_features.npy\") # (1115,954)\n",
    "y_test = np.load(\"test_labels.npy\")   # (1115,)\n",
    "#print(X_test.shape ,y_test.shape)"
   ]
  },
  {
   "cell_type": "code",
   "execution_count": 106,
   "metadata": {},
   "outputs": [],
   "source": [
    "# spam_means\n",
    "# notSpam_means\n",
    "\n"
   ]
  },
  {
   "cell_type": "code",
   "execution_count": 127,
   "metadata": {},
   "outputs": [],
   "source": [
    "fact = -1* np.log(factorial(X_test))\n",
    "temp = fact + np.multiply(np.log(1e-12 + spam_means),X_test) - spam_means\n",
    "spam_temp = np.sum(temp,axis = 1)\n",
    "one = np.exp(spam_temp)"
   ]
  },
  {
   "cell_type": "code",
   "execution_count": 128,
   "metadata": {},
   "outputs": [],
   "source": [
    "fact = - np.log(1e-12 + factorial(X_test[:]))\n",
    "temp = fact + np.multiply(np.log(1e-12 + notSpam_means),X_test) - notSpam_means\n",
    "notSpam_temp = np.sum(temp,axis = 1)\n",
    "two = np.exp(notSpam_temp)"
   ]
  },
  {
   "cell_type": "code",
   "execution_count": 129,
   "metadata": {},
   "outputs": [
    {
     "data": {
      "text/plain": [
       "1096"
      ]
     },
     "execution_count": 129,
     "metadata": {},
     "output_type": "execute_result"
    }
   ],
   "source": [
    "np.sum((one >= two) == y_test)"
   ]
  },
  {
   "cell_type": "code",
   "execution_count": 130,
   "metadata": {},
   "outputs": [
    {
     "data": {
      "text/plain": [
       "1115"
      ]
     },
     "execution_count": 130,
     "metadata": {},
     "output_type": "execute_result"
    }
   ],
   "source": [
    "len(X_test)"
   ]
  },
  {
   "cell_type": "code",
   "execution_count": 132,
   "metadata": {},
   "outputs": [
    {
     "data": {
      "text/plain": [
       "0.9829596412556054"
      ]
     },
     "execution_count": 132,
     "metadata": {},
     "output_type": "execute_result"
    }
   ],
   "source": [
    "1096/1115"
   ]
  },
  {
   "cell_type": "code",
   "execution_count": null,
   "metadata": {},
   "outputs": [],
   "source": []
  }
 ],
 "metadata": {
  "kernelspec": {
   "display_name": "Python 3",
   "language": "python",
   "name": "python3"
  },
  "language_info": {
   "codemirror_mode": {
    "name": "ipython",
    "version": 3
   },
   "file_extension": ".py",
   "mimetype": "text/x-python",
   "name": "python",
   "nbconvert_exporter": "python",
   "pygments_lexer": "ipython3",
   "version": "3.8.5"
  }
 },
 "nbformat": 4,
 "nbformat_minor": 4
}
