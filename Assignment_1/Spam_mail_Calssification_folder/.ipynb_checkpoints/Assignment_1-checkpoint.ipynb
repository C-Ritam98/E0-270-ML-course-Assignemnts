{
 "cells": [
  {
   "cell_type": "code",
   "execution_count": 10,
   "metadata": {},
   "outputs": [],
   "source": [
    "#import necesasary packages\n",
    "import numpy as np\n",
    "import matplotlib.pyplot as plt\n",
    "import pandas as pd\n",
    "import pickle\n",
    "import math\n",
    "from scipy.special import factorial"
   ]
  },
  {
   "cell_type": "code",
   "execution_count": 11,
   "metadata": {},
   "outputs": [
    {
     "name": "stdout",
     "output_type": "stream",
     "text": [
      "#messages: 4459, vocabulary: 954\n"
     ]
    }
   ],
   "source": [
    "#load data files\n",
    "X_train = np.load(\"train_features.npy\") # X_train.shape = (4459,954)\n",
    "y_train = np.load(\"train_labels.npy\")   # y_train.shape = (4459,)\n",
    "N = X_train.shape[0]\n",
    "d = X_train.shape[1]\n",
    "print(f\"#messages: {N}, vocabulary: {d}\")"
   ]
  },
  {
   "cell_type": "code",
   "execution_count": 12,
   "metadata": {},
   "outputs": [],
   "source": [
    "probs = np.zeros((N,d))  #probs.shape = (4459,954) "
   ]
  },
  {
   "cell_type": "code",
   "execution_count": 27,
   "metadata": {},
   "outputs": [],
   "source": [
    "spam_indx = [i for i,j in enumerate(y_train) if j == 1] # storing indices of spam messages\n",
    "notSpam_indx = [i for i,j in enumerate(y_train) if j == 0] # storing indices of non spam messages"
   ]
  },
  {
   "cell_type": "code",
   "execution_count": 28,
   "metadata": {},
   "outputs": [],
   "source": [
    "spam_means = X_train[spam_indx].mean(axis=0)  #mean of #word in the spam messages\n",
    "notSpam_means = X_train[notSpam_indx].mean(axis=0)  #mean of #word in the not spam messages \n",
    "# print(spam_means.shape,notSpam_means.shape) >>> (954,) (954,)"
   ]
  },
  {
   "cell_type": "code",
   "execution_count": 29,
   "metadata": {},
   "outputs": [],
   "source": [
    "# calculate the prior probabilities\n",
    "prior_spam = np.array(spam_indx).shape[0]/4459\n",
    "prior_notSpam = np.array(notSpam_indx).shape[0]/4459"
   ]
  },
  {
   "cell_type": "code",
   "execution_count": 30,
   "metadata": {},
   "outputs": [
    {
     "data": {
      "text/plain": [
       "(592, 954)"
      ]
     },
     "execution_count": 30,
     "metadata": {},
     "output_type": "execute_result"
    }
   ],
   "source": [
    "temp = np.power(spam_means,X_train[spam_indx])\n",
    "temp.shape"
   ]
  },
  {
   "cell_type": "code",
   "execution_count": null,
   "metadata": {},
   "outputs": [],
   "source": []
  },
  {
   "cell_type": "code",
   "execution_count": 31,
   "metadata": {},
   "outputs": [
    {
     "data": {
      "text/plain": [
       "(954, 1)"
      ]
     },
     "execution_count": 31,
     "metadata": {},
     "output_type": "execute_result"
    }
   ],
   "source": [
    "np.exp(-1*spam_means).reshape((-1,1)).shape"
   ]
  },
  {
   "cell_type": "code",
   "execution_count": 32,
   "metadata": {},
   "outputs": [],
   "source": [
    "fact = factorial(X_train[spam_indx]) ** -1"
   ]
  },
  {
   "cell_type": "code",
   "execution_count": null,
   "metadata": {},
   "outputs": [],
   "source": []
  }
 ],
 "metadata": {
  "kernelspec": {
   "display_name": "Python 3",
   "language": "python",
   "name": "python3"
  },
  "language_info": {
   "codemirror_mode": {
    "name": "ipython",
    "version": 3
   },
   "file_extension": ".py",
   "mimetype": "text/x-python",
   "name": "python",
   "nbconvert_exporter": "python",
   "pygments_lexer": "ipython3",
   "version": "3.8.5"
  }
 },
 "nbformat": 4,
 "nbformat_minor": 4
}
